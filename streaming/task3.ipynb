{
 "cells": [
  {
   "cell_type": "code",
   "execution_count": 1,
   "metadata": {},
   "outputs": [],
   "source": [
    "import json\n",
    "import sys\n",
    "import time\n",
    "import random"
   ]
  },
  {
   "cell_type": "code",
   "execution_count": 2,
   "metadata": {},
   "outputs": [],
   "source": [
    "import tweepy"
   ]
  },
  {
   "cell_type": "code",
   "execution_count": 3,
   "metadata": {},
   "outputs": [],
   "source": [
    "port = 9999\n",
    "output_file = 'task3'\n",
    "#input_file = sys.argv[1]"
   ]
  },
  {
   "cell_type": "code",
   "execution_count": 4,
   "metadata": {},
   "outputs": [],
   "source": [
    "API_key = '8QBDbPOclySMUjbfCbfEebQWm'\n",
    "API_secret_key = '3CWeJ4MiUtGiPTjZG8vmw7he7PiJmoXYjerhq2vwQzYLpEiIHe'\n",
    "Access_token = '1275610007967379456-L0zERFDffV5f0zmRb6Hv4JHevtPiSo'\n",
    "Access_token_secret = 'DfFWLZKo6Nh9NUQO1FmY9ZugSqdkAOmJvd5SB3KmQLAKr'\n"
   ]
  },
  {
   "cell_type": "code",
   "execution_count": null,
   "metadata": {},
   "outputs": [],
   "source": []
  },
  {
   "cell_type": "code",
   "execution_count": 26,
   "metadata": {},
   "outputs": [],
   "source": [
    "class NewStreamListener(tweepy.StreamListener):\n",
    "    def __init__(self, output_file):\n",
    "        tweepy.StreamListener.__init__(self)\n",
    "        self.output_file = output_file\n",
    "        self.saved_tweets = {}\n",
    "        self.sequence = 0\n",
    "        self.tags = []\n",
    "        self.tags_count = {}\n",
    "\n",
    "    def on_status(self, status):\n",
    "        tag_list = status.entities.get('hashtags')\n",
    "        if tag_list:\n",
    "            self.sequence += 1\n",
    "            if self.sequence <= 100:\n",
    "                self.tags.append(tag_list)\n",
    "                for t in tag_list:\n",
    "                    tag = t['text']\n",
    "                    if tag in self.tags_count:\n",
    "                        self.tags_count[tag] += 1\n",
    "                    else:\n",
    "                        self.tags_count[tag] = 1\n",
    "            else:\n",
    "                if random.random() < 100/self.sequence:\n",
    "                    out = random.sample(self.tags, 1)[0]\n",
    "                    self.tags.remove(out)\n",
    "                    for t in out:\n",
    "                        tag_out = t['text']\n",
    "                        if self.tags_count[tag_out] == 1:\n",
    "                            del self.tags_count[tag_out]\n",
    "                        else:\n",
    "                            self.tags_count[tag_out] -= 1\n",
    "                    \n",
    "                    self.tags.append(tag_list)\n",
    "                    for t in tag_list:\n",
    "                        tag = t['text']\n",
    "                        if tag in self.tags_count:\n",
    "                            self.tags_count[tag] += 1\n",
    "                        else:\n",
    "                            self.tags_count[tag] = 1 \n",
    "                    \n",
    "            \n",
    "            with open(self.output_file, 'a') as f:\n",
    "                f.write(\"The number of tweets with tags from the beginning: \" + str(self.sequence)+\"\\n\")\n",
    "                result = sorted(self.tags_count.items(), key=lambda t: (-t[1],t[0]))\n",
    "                for t, c in result:\n",
    "                    f.write(t + ' : ' + str(c) + '\\n')\n",
    "                f.write('\\n')\n",
    "                \n",
    "        \n",
    "    \n",
    "    "
   ]
  },
  {
   "cell_type": "code",
   "execution_count": null,
   "metadata": {},
   "outputs": [],
   "source": []
  },
  {
   "cell_type": "code",
   "execution_count": null,
   "metadata": {},
   "outputs": [],
   "source": []
  },
  {
   "cell_type": "code",
   "execution_count": null,
   "metadata": {},
   "outputs": [],
   "source": []
  },
  {
   "cell_type": "code",
   "execution_count": 20,
   "metadata": {},
   "outputs": [],
   "source": [
    "with open(output_file, 'w') as f:\n",
    "    f.write('')"
   ]
  },
  {
   "cell_type": "code",
   "execution_count": 18,
   "metadata": {},
   "outputs": [],
   "source": [
    "word_list = ['China', 'COVID19', 'DonaldTrump', 'pandemic', 'Black', 'Lives', 'matter']"
   ]
  },
  {
   "cell_type": "code",
   "execution_count": 12,
   "metadata": {},
   "outputs": [],
   "source": [
    "myListener = NewStreamListener(output_file)"
   ]
  },
  {
   "cell_type": "code",
   "execution_count": 15,
   "metadata": {},
   "outputs": [],
   "source": [
    "auth = tweepy.OAuthHandler(API_key,API_secret_key)\n",
    "auth.set_access_token(Access_token, Access_token_secret)\n",
    "api = tweepy.API(auth, wait_on_rate_limit=True)\n",
    "api.configuration()"
   ]
  },
  {
   "cell_type": "code",
   "execution_count": 16,
   "metadata": {},
   "outputs": [],
   "source": [
    "stream = tweepy.Stream(auth=auth, listener=myListener)"
   ]
  },
  {
   "cell_type": "code",
   "execution_count": 17,
   "metadata": {
    "scrolled": true
   },
   "outputs": [],
   "source": [
    "stream.filter(track = word_list, languages=[\"en\"])"
   ]
  },
  {
   "cell_type": "code",
   "execution_count": null,
   "metadata": {},
   "outputs": [],
   "source": []
  }
 ],
 "metadata": {
  "kernelspec": {
   "display_name": "Python 3",
   "language": "python",
   "name": "python3"
  },
  "language_info": {
   "codemirror_mode": {
    "name": "ipython",
    "version": 3
   },
   "file_extension": ".py",
   "mimetype": "text/x-python",
   "name": "python",
   "nbconvert_exporter": "python",
   "pygments_lexer": "ipython3",
   "version": "3.7.6"
  }
 },
 "nbformat": 4,
 "nbformat_minor": 4
}
