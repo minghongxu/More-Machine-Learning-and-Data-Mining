{
 "cells": [
  {
   "cell_type": "code",
   "execution_count": 1,
   "metadata": {},
   "outputs": [],
   "source": [
    "import json\n",
    "from pyspark import SparkConf,SparkContext\n",
    "import sys\n",
    "import time\n",
    "import random"
   ]
  },
  {
   "cell_type": "code",
   "execution_count": 13,
   "metadata": {},
   "outputs": [],
   "source": [
    "import binascii\n",
    "from pyspark.streaming import StreamingContext\n",
    "import datetime"
   ]
  },
  {
   "cell_type": "code",
   "execution_count": 2,
   "metadata": {},
   "outputs": [],
   "source": [
    "port = 9999\n",
    "output_file = 'task2'\n",
    "#input_file = sys.argv[1]"
   ]
  },
  {
   "cell_type": "code",
   "execution_count": 3,
   "metadata": {},
   "outputs": [
    {
     "data": {
      "text/plain": [
       "<pyspark.conf.SparkConf at 0x7fa7feb24bd0>"
      ]
     },
     "execution_count": 3,
     "metadata": {},
     "output_type": "execute_result"
    }
   ],
   "source": [
    "conf = SparkConf().setAppName(\"inf553\")\n",
    "conf.set('spark.executor.memory', '4G')\n",
    "conf.set('spark.driver.memory', '4G')"
   ]
  },
  {
   "cell_type": "code",
   "execution_count": 4,
   "metadata": {},
   "outputs": [],
   "source": [
    "sc = SparkContext(conf=conf)"
   ]
  },
  {
   "cell_type": "code",
   "execution_count": 8,
   "metadata": {},
   "outputs": [],
   "source": [
    "ssc=StreamingContext(sc , 5)"
   ]
  },
  {
   "cell_type": "code",
   "execution_count": null,
   "metadata": {},
   "outputs": [],
   "source": []
  },
  {
   "cell_type": "code",
   "execution_count": 12,
   "metadata": {},
   "outputs": [],
   "source": [
    "with open(output_file, 'w') as f:\n",
    "    f.write('Time,Ground Truth,Estimation' + '\\n')"
   ]
  },
  {
   "cell_type": "code",
   "execution_count": 10,
   "metadata": {},
   "outputs": [],
   "source": [
    "cities = ssc.socketTextStream('localhost', port).map(lambda x:json.loads(x)).map(lambda d: d['city']) \\\n",
    "    .filter(lambda c: c != '').map(lambda c: int(binascii.hexlify(c.encode('utf8')), 16))\n"
   ]
  },
  {
   "cell_type": "code",
   "execution_count": 42,
   "metadata": {},
   "outputs": [],
   "source": [
    "m = 307\n",
    "p = 997\n",
    "n = 24\n",
    "random_a = random.sample(range(1, 500), n)\n",
    "random_b = random.sample(range(1, 2000), n)"
   ]
  },
  {
   "cell_type": "code",
   "execution_count": null,
   "metadata": {},
   "outputs": [],
   "source": []
  },
  {
   "cell_type": "code",
   "execution_count": 35,
   "metadata": {},
   "outputs": [],
   "source": [
    "def Flajolet_Martin(cityrdd):\n",
    "    citylist = cityrdd.collect()\n",
    "    time = str(datetime.datetime.now())[:-7]\n",
    "    ground_truth = len(set(citylist))\n",
    "    \n",
    "    est_list = []\n",
    "    for i in range(n):\n",
    "        max_zeros = 0\n",
    "        for x in citylist:\n",
    "            a = random_a[i]\n",
    "            b = random_b[i]\n",
    "            binhash = bin(((a * x + b) % p) % m)\n",
    "            count = 0\n",
    "            strbin = str(binhash)\n",
    "            for num in range(len(strbin), 2, -1):\n",
    "                if strbin[num-1] == '0':\n",
    "                    count += 1\n",
    "                else:\n",
    "                    break\n",
    "            if count >= max_zeros:\n",
    "                max_zeros = count\n",
    "        est_list.append(2**max_zeros)\n",
    "    \n",
    "    estimation = sum(sorted(est_list)[8:-8])/(n/3)\n",
    "    \n",
    "    with open(output_file, 'a') as f:\n",
    "        f.write(time + ',' + str(ground_truth) + ',' + str(estimation) + '\\n')\n",
    "    "
   ]
  },
  {
   "cell_type": "code",
   "execution_count": null,
   "metadata": {},
   "outputs": [],
   "source": []
  },
  {
   "cell_type": "code",
   "execution_count": null,
   "metadata": {},
   "outputs": [],
   "source": [
    "cities.window(30, 10).foreachRDD(Flajolet_Martin)"
   ]
  },
  {
   "cell_type": "code",
   "execution_count": null,
   "metadata": {},
   "outputs": [],
   "source": []
  },
  {
   "cell_type": "code",
   "execution_count": null,
   "metadata": {},
   "outputs": [],
   "source": [
    "ssc.start()\n",
    "ssc.awaitTermination()"
   ]
  },
  {
   "cell_type": "code",
   "execution_count": null,
   "metadata": {},
   "outputs": [],
   "source": []
  }
 ],
 "metadata": {
  "kernelspec": {
   "display_name": "Python 3",
   "language": "python",
   "name": "python3"
  },
  "language_info": {
   "codemirror_mode": {
    "name": "ipython",
    "version": 3
   },
   "file_extension": ".py",
   "mimetype": "text/x-python",
   "name": "python",
   "nbconvert_exporter": "python",
   "pygments_lexer": "ipython3",
   "version": "3.7.6"
  }
 },
 "nbformat": 4,
 "nbformat_minor": 4
}
