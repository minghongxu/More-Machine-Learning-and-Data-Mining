{
 "cells": [
  {
   "cell_type": "code",
   "execution_count": 1,
   "metadata": {},
   "outputs": [],
   "source": [
    "import json\n",
    "from pyspark import SparkConf,SparkContext\n",
    "import sys"
   ]
  },
  {
   "cell_type": "code",
   "execution_count": 2,
   "metadata": {},
   "outputs": [],
   "source": [
    "import time\n",
    "t_start = time.time()"
   ]
  },
  {
   "cell_type": "code",
   "execution_count": 3,
   "metadata": {},
   "outputs": [],
   "source": [
    "filter_threshold = 70\n",
    "support = 50\n",
    "input_file = 'user_business.csv'\n",
    "output_file = 'task2'\n",
    "#input_file = sys.argv[1]"
   ]
  },
  {
   "cell_type": "code",
   "execution_count": 4,
   "metadata": {},
   "outputs": [
    {
     "data": {
      "text/plain": [
       "<pyspark.conf.SparkConf at 0x7fa50ec2d550>"
      ]
     },
     "execution_count": 4,
     "metadata": {},
     "output_type": "execute_result"
    }
   ],
   "source": [
    "conf = SparkConf().setAppName(\"inf553\")\n",
    "conf.set('spark.executor.memory', '4G')\n",
    "conf.set('spark.driver.memory', '4G')"
   ]
  },
  {
   "cell_type": "code",
   "execution_count": 5,
   "metadata": {},
   "outputs": [],
   "source": [
    "sc = SparkContext(conf=conf)"
   ]
  },
  {
   "cell_type": "code",
   "execution_count": null,
   "metadata": {},
   "outputs": [],
   "source": []
  },
  {
   "cell_type": "code",
   "execution_count": 6,
   "metadata": {},
   "outputs": [],
   "source": [
    "def APriori(chunk):\n",
    "    basketslist = list(chunk)\n",
    "    ps = support * (len(basketslist)/basket_num)\n",
    "    candidate = []\n",
    "    candidatek = set() #init\n",
    "    k = 3\n",
    "    \n",
    "    #singletons\n",
    "    count_fisrt = {}\n",
    "    for s in basketslist:\n",
    "        for i in s:\n",
    "            frozeni = frozenset({i})\n",
    "            if frozeni in count_fisrt:\n",
    "                count_fisrt[frozeni] += 1\n",
    "            else:\n",
    "                count_fisrt[frozeni] = 1\n",
    "    for key in count_fisrt:\n",
    "        if count_fisrt[key] >= ps:\n",
    "            candidate.append(key)\n",
    "    \n",
    "    first_len = len(candidate)\n",
    "    for i in range(first_len):\n",
    "        for j in range(i+1, first_len):\n",
    "            candidatek.add(candidate[i]|candidate[j])\n",
    "\n",
    "    while True:\n",
    "        count = {}\n",
    "        candidatetemp = []\n",
    "        for i in candidatek:\n",
    "            for basket in basketslist:\n",
    "                if i<= basket:\n",
    "                    frozeni = frozenset(i)\n",
    "                    if frozeni in count:\n",
    "                        count[frozeni] += 1\n",
    "                    else:\n",
    "                        count[frozeni] = 1\n",
    "        candidatek = set() #reset\n",
    "        for key in count:\n",
    "            if count[key] >= ps:\n",
    "                candidate.append(key)\n",
    "                candidatetemp.append(key)\n",
    "                \n",
    "        length = len(candidatetemp)\n",
    "        for s1 in range(length):\n",
    "            for s2 in range(s1+1,length):\n",
    "                combo = candidatetemp[s1]|candidatetemp[s2]\n",
    "                if len(combo) == k:\n",
    "                    candidatek.add(combo)\n",
    "        k += 1\n",
    "        if len(candidatek) == 0:\n",
    "            break\n",
    "    return candidate\n",
    "                    \n",
    "    "
   ]
  },
  {
   "cell_type": "code",
   "execution_count": 7,
   "metadata": {},
   "outputs": [],
   "source": [
    "def reduce2(item):\n",
    "    itemset = set(item)\n",
    "    count = 0\n",
    "    for basket in entire_basket:\n",
    "        if itemset <= basket:\n",
    "            count += 1\n",
    "    return count >= support\n",
    "\n"
   ]
  },
  {
   "cell_type": "code",
   "execution_count": 8,
   "metadata": {},
   "outputs": [],
   "source": [
    "def create_output(itemsets):\n",
    "    output = ''\n",
    "    length = 1\n",
    "    for i in itemsets:\n",
    "        if len(i) == length:\n",
    "            if len(i) == 1:\n",
    "                output = output + str(i)[0:-2] + '),'\n",
    "            else:\n",
    "                output = output + str(i) + ','\n",
    "        else:\n",
    "            length += 1\n",
    "            output = output[0:-1] + '\\n\\n' + str(i) + ','\n",
    "    return output[0:-1]"
   ]
  },
  {
   "cell_type": "code",
   "execution_count": null,
   "metadata": {},
   "outputs": [],
   "source": []
  },
  {
   "cell_type": "code",
   "execution_count": 9,
   "metadata": {},
   "outputs": [],
   "source": [
    "user_business = sc.textFile(input_file)\n",
    "first = user_business.first()\n",
    "simulated = user_business.filter(lambda x: x != first).map(lambda s: s.split(','))"
   ]
  },
  {
   "cell_type": "code",
   "execution_count": 10,
   "metadata": {},
   "outputs": [],
   "source": [
    "#new version\n",
    "baskets = simulated.map(lambda l: (l[0], l[1])).groupByKey().map(lambda t: set(t[1])) \\\n",
    "    .filter(lambda t: len(t) > filter_threshold)"
   ]
  },
  {
   "cell_type": "code",
   "execution_count": null,
   "metadata": {},
   "outputs": [],
   "source": []
  },
  {
   "cell_type": "code",
   "execution_count": 11,
   "metadata": {},
   "outputs": [],
   "source": [
    "entire_basket = baskets.collect()\n",
    "basket_num = len(entire_basket)"
   ]
  },
  {
   "cell_type": "code",
   "execution_count": null,
   "metadata": {},
   "outputs": [],
   "source": []
  },
  {
   "cell_type": "code",
   "execution_count": 12,
   "metadata": {},
   "outputs": [],
   "source": [
    "candidate = baskets.mapPartitions(APriori).map(lambda s: (tuple(sorted(s)),1)).reduceByKey(lambda a, b: 1).keys()"
   ]
  },
  {
   "cell_type": "code",
   "execution_count": 13,
   "metadata": {},
   "outputs": [],
   "source": [
    "candidatesorted = candidate.sortBy(lambda x:(len(x),x)).collect()"
   ]
  },
  {
   "cell_type": "code",
   "execution_count": null,
   "metadata": {},
   "outputs": [],
   "source": []
  },
  {
   "cell_type": "code",
   "execution_count": 14,
   "metadata": {},
   "outputs": [],
   "source": [
    "frequent_output = candidate.filter(reduce2).sortBy(lambda x:(len(x),x)).collect()"
   ]
  },
  {
   "cell_type": "code",
   "execution_count": null,
   "metadata": {},
   "outputs": [],
   "source": []
  },
  {
   "cell_type": "code",
   "execution_count": 15,
   "metadata": {},
   "outputs": [],
   "source": [
    "with open(output_file, \"w\") as f:\n",
    "    f.write(\"Candidates:\\n\" + create_output(candidatesorted) + \\\n",
    "            \"\\n\\nFrequent Itemsets:\\n\" + create_output(frequent_output))"
   ]
  },
  {
   "cell_type": "code",
   "execution_count": null,
   "metadata": {},
   "outputs": [],
   "source": []
  },
  {
   "cell_type": "code",
   "execution_count": 16,
   "metadata": {},
   "outputs": [
    {
     "name": "stdout",
     "output_type": "stream",
     "text": [
      "Duration: 136.76922178268433\n"
     ]
    }
   ],
   "source": [
    "t_end = time.time()\n",
    "print('Duration:', t_end-t_start)"
   ]
  },
  {
   "cell_type": "code",
   "execution_count": null,
   "metadata": {},
   "outputs": [],
   "source": []
  }
 ],
 "metadata": {
  "kernelspec": {
   "display_name": "Python 3",
   "language": "python",
   "name": "python3"
  },
  "language_info": {
   "codemirror_mode": {
    "name": "ipython",
    "version": 3
   },
   "file_extension": ".py",
   "mimetype": "text/x-python",
   "name": "python",
   "nbconvert_exporter": "python",
   "pygments_lexer": "ipython3",
   "version": "3.7.6"
  }
 },
 "nbformat": 4,
 "nbformat_minor": 4
}
