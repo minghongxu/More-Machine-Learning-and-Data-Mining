{
 "cells": [
  {
   "cell_type": "code",
   "execution_count": 1,
   "metadata": {},
   "outputs": [],
   "source": [
    "import json\n",
    "from pyspark import SparkConf,SparkContext\n",
    "import sys\n",
    "import random\n",
    "import math\n",
    "import re"
   ]
  },
  {
   "cell_type": "code",
   "execution_count": 2,
   "metadata": {},
   "outputs": [],
   "source": [
    "train_file = 'train_review.json'\n",
    "model_file = 'task3user.model' #task3item/task3user.model\n",
    "cf_type = 'user_based' #item_based/user_based\n",
    "#input_file = sys.argv[1]\n",
    "user_avg_file = 'user_avg.json'\n",
    "business_avg_file = 'business_avg.json'"
   ]
  },
  {
   "cell_type": "code",
   "execution_count": 3,
   "metadata": {},
   "outputs": [],
   "source": [
    "import time\n",
    "t_start = time.time()"
   ]
  },
  {
   "cell_type": "code",
   "execution_count": 4,
   "metadata": {},
   "outputs": [
    {
     "data": {
      "text/plain": [
       "<pyspark.conf.SparkConf at 0x7fccc9c6f690>"
      ]
     },
     "execution_count": 4,
     "metadata": {},
     "output_type": "execute_result"
    }
   ],
   "source": [
    "conf = SparkConf().setAppName(\"inf553\")\n",
    "conf.set('spark.executor.memory', '4G')\n",
    "conf.set('spark.driver.memory', '4G')"
   ]
  },
  {
   "cell_type": "code",
   "execution_count": 5,
   "metadata": {},
   "outputs": [],
   "source": [
    "sc = SparkContext(conf=conf)"
   ]
  },
  {
   "cell_type": "code",
   "execution_count": 6,
   "metadata": {},
   "outputs": [],
   "source": [
    "review = sc.textFile(train_file).map(lambda x:json.loads(x)).map(lambda d: (d['user_id'], d['business_id'], d['stars'])).cache()\n"
   ]
  },
  {
   "cell_type": "code",
   "execution_count": 7,
   "metadata": {},
   "outputs": [],
   "source": [
    "business_avg = dict(review.map(lambda t: (t[1], t[2])).groupByKey().map(lambda t: (t[0], sum(list(t[1]))/len(t[1]))).collect())\n"
   ]
  },
  {
   "cell_type": "code",
   "execution_count": 8,
   "metadata": {},
   "outputs": [],
   "source": [
    "#with open(user_avg_file) as f:\n",
    "#    user_avg = json.load(f)\n",
    "#with open(business_avg_file) as f1:\n",
    "#    business_avg = json.load(f1)"
   ]
  },
  {
   "cell_type": "code",
   "execution_count": null,
   "metadata": {},
   "outputs": [],
   "source": []
  },
  {
   "cell_type": "code",
   "execution_count": 9,
   "metadata": {},
   "outputs": [],
   "source": [
    "n = 25\n",
    "b = 25\n",
    "r = 1\n",
    "p = 99991\n",
    "random_a = random.sample(range(1, 2000), n)\n",
    "random_c = random.sample(range(1, 2000), n)"
   ]
  },
  {
   "cell_type": "code",
   "execution_count": 10,
   "metadata": {},
   "outputs": [],
   "source": [
    "def hash_value(row_num, a, c):\n",
    "    return ((a * row_num + c) % p) % business_num"
   ]
  },
  {
   "cell_type": "code",
   "execution_count": 11,
   "metadata": {},
   "outputs": [],
   "source": [
    "def minhash(business_list):\n",
    "    signature_vector = []\n",
    "    for i in range(n):\n",
    "        candidate_sig = []\n",
    "        for business in business_list:\n",
    "            candidate_sig.append(hash_value(business,random_a[i],random_c[i]))\n",
    "        signature_vector.append(min(candidate_sig))\n",
    "    return signature_vector\n",
    "    \n",
    "    "
   ]
  },
  {
   "cell_type": "code",
   "execution_count": 12,
   "metadata": {},
   "outputs": [],
   "source": [
    "def LSH(chunk):\n",
    "    user_id = chunk[0]\n",
    "    business_list = chunk[1]\n",
    "    result = []\n",
    "    for i in range(b):\n",
    "        band = []\n",
    "        for j in range(r):\n",
    "            band.append(business_list[i*r+j])\n",
    "        result.append(((i,tuple(band)),user_id))\n",
    "    return result\n",
    "            "
   ]
  },
  {
   "cell_type": "code",
   "execution_count": 13,
   "metadata": {},
   "outputs": [],
   "source": [
    "def lshfind_pairs(candidates):\n",
    "    result = []\n",
    "    sort_candi = sorted(candidates)\n",
    "    length = len(sort_candi)\n",
    "    for i in range(length):\n",
    "        for j in range(i+1, length):\n",
    "            result.append((sort_candi[i],sort_candi[j]))\n",
    "    return result"
   ]
  },
  {
   "cell_type": "code",
   "execution_count": 14,
   "metadata": {},
   "outputs": [],
   "source": [
    "def Jaccard(b1, b2):\n",
    "    sb1 = set(b1)\n",
    "    sb2 = set(b2)\n",
    "    return len(sb1&sb2)/len(sb1|sb2)\n",
    "    "
   ]
  },
  {
   "cell_type": "code",
   "execution_count": null,
   "metadata": {},
   "outputs": [],
   "source": []
  },
  {
   "cell_type": "code",
   "execution_count": null,
   "metadata": {},
   "outputs": [],
   "source": []
  },
  {
   "cell_type": "code",
   "execution_count": 15,
   "metadata": {},
   "outputs": [],
   "source": [
    "def find_pairs(chunk):\n",
    "    commonid = chunk[0]\n",
    "    candidates = sorted(list(chunk[1]))\n",
    "    length = len(candidates)\n",
    "    result = []\n",
    "    for i in range(length):\n",
    "        for j in range(i+1, length):\n",
    "            result.append(((candidates[i],candidates[j]),commonid))\n",
    "    return result"
   ]
  },
  {
   "cell_type": "code",
   "execution_count": 16,
   "metadata": {},
   "outputs": [],
   "source": [
    "def Pearson_item(chunk):\n",
    "    itemi, itemj = chunk[0]\n",
    "    users = chunk[1]\n",
    "    numerator = 0\n",
    "    denominator1 = 0\n",
    "    denominator2 = 0\n",
    "    ri_sum = 0\n",
    "    rj_sum = 0\n",
    "    for u in users:\n",
    "        ri_sum += business_users[itemi][u]\n",
    "        rj_sum += business_users[itemj][u]\n",
    "    ri_avg = ri_sum/len(users)\n",
    "    rj_avg = rj_sum/len(users)\n",
    "    for u in users:\n",
    "        rui = business_users[itemi][u]\n",
    "        ruj = business_users[itemj][u]\n",
    "        numerator += (rui-ri_avg)*(ruj-rj_avg)\n",
    "        denominator1 += (rui-ri_avg)**2\n",
    "        denominator2 += (ruj-rj_avg)**2\n",
    "    if denominator1*denominator2 == 0:\n",
    "        return [(itemi,itemj,0)]\n",
    "    else:\n",
    "        wij = numerator/(denominator1**0.5*denominator2**0.5)\n",
    "        return [(itemi,itemj,wij)]\n",
    "    \n",
    "    "
   ]
  },
  {
   "cell_type": "code",
   "execution_count": 17,
   "metadata": {},
   "outputs": [],
   "source": [
    "def Pearson_user(tup):\n",
    "    useru, userv = tup\n",
    "    items = set(user_businesses[useru])&set(user_businesses[userv])\n",
    "    numerator = 0\n",
    "    denominator1 = 0\n",
    "    denominator2 = 0\n",
    "    uu_sum = 0\n",
    "    uv_sum = 0\n",
    "    for i in items:\n",
    "        uu_sum += user_businesses[useru][i]\n",
    "        uv_sum += user_businesses[userv][i]\n",
    "    uu_avg = uu_sum/len(items)\n",
    "    uv_avg = uv_sum/len(items)\n",
    "    for i in items:\n",
    "        rui = user_businesses[useru][i]\n",
    "        rvi = user_businesses[userv][i]\n",
    "        numerator += (rui-uu_avg)*(rvi-uv_avg)\n",
    "        denominator1 += (rui-uu_avg)**2\n",
    "        denominator2 += (rvi-uv_avg)**2\n",
    "    if denominator1*denominator2 == 0:\n",
    "        return [(useru,userv,0)]\n",
    "    else:\n",
    "        wuv = numerator/(denominator1**0.5*denominator2**0.5)\n",
    "        return [(useru,userv,wuv)]    \n",
    "    \n",
    "    \n",
    "    \n",
    "    "
   ]
  },
  {
   "cell_type": "code",
   "execution_count": null,
   "metadata": {},
   "outputs": [],
   "source": []
  },
  {
   "cell_type": "code",
   "execution_count": 18,
   "metadata": {},
   "outputs": [],
   "source": [
    "if cf_type == 'item_based':\n",
    "    business_pair = review.map(lambda t: (t[0],t[1])).groupByKey().flatMap(find_pairs).groupByKey() \\\n",
    "        .filter(lambda t: len(t[1]) >= 3).map(lambda t: (t[0],set(t[1])))\n",
    "    business_users = dict(review.map(lambda t: (t[1],(t[0],t[2]))).groupByKey().map(lambda t: (t[0],dict(list(t[1])))).collect())\n",
    "    itembased = business_pair.flatMap(Pearson_item).filter(lambda t: t[2] > 0).collect()\n",
    "    with open(model_file, 'w') as f:\n",
    "        for t in itembased:\n",
    "            result = {}\n",
    "            result['b1'] = t[0]\n",
    "            result['b2'] = t[1]\n",
    "            result['sim'] = t[2]\n",
    "            json.dump(result, f)\n",
    "            f.write('\\n')\n",
    "elif cf_type == 'user_based':\n",
    "    user_businesses = dict(review.map(lambda t: (t[0],(t[1],t[2]))).groupByKey().map(lambda t: (t[0],dict(list(t[1])))).collect())\n",
    "    businesses = sorted(review.map(lambda t: t[1]).distinct().collect())\n",
    "    business_num = len(businesses)\n",
    "    business_dic = {}\n",
    "    for i, u in enumerate(businesses):\n",
    "        business_dic[u] = i\n",
    "    user = review.map(lambda t:(t[0],business_dic[t[1]])).groupByKey().map(lambda t:(t[0],list(t[1])))\n",
    "    user_dict = dict(user.collect())\n",
    "\n",
    "    signature_matrix = user.map(lambda t:(t[0], minhash(t[1]))).cache()\n",
    "    candidates = signature_matrix.flatMap(LSH).groupByKey().filter(lambda t: len(t[1])>1) \\\n",
    "        .map(lambda t: list(t[1])).flatMap(lshfind_pairs).distinct()\n",
    "    verified_pair = candidates.map(lambda t: ((t[0],t[1]),Jaccard(user_dict[t[0]],user_dict[t[1]]))) \\\n",
    "        .filter(lambda t: t[1] >= 0.01).map(lambda t: t[0])\n",
    "    user_based = verified_pair.flatMap(Pearson_user).filter(lambda t: t[2] > 0).collect()\n",
    "    with open(model_file, 'w') as f:\n",
    "        for t in user_based:\n",
    "            result = {}\n",
    "            result['u1'] = t[0]\n",
    "            result['u2'] = t[1]\n",
    "            result['sim'] = t[2]\n",
    "            json.dump(result, f)\n",
    "            f.write('\\n')"
   ]
  },
  {
   "cell_type": "code",
   "execution_count": null,
   "metadata": {},
   "outputs": [],
   "source": []
  },
  {
   "cell_type": "code",
   "execution_count": null,
   "metadata": {},
   "outputs": [],
   "source": []
  },
  {
   "cell_type": "code",
   "execution_count": null,
   "metadata": {},
   "outputs": [],
   "source": []
  },
  {
   "cell_type": "code",
   "execution_count": 19,
   "metadata": {},
   "outputs": [
    {
     "name": "stdout",
     "output_type": "stream",
     "text": [
      "Duration: 467.665235042572\n"
     ]
    }
   ],
   "source": [
    "t_end = time.time()\n",
    "print('Duration:', t_end-t_start)"
   ]
  },
  {
   "cell_type": "code",
   "execution_count": null,
   "metadata": {},
   "outputs": [],
   "source": []
  }
 ],
 "metadata": {
  "kernelspec": {
   "display_name": "Python 3",
   "language": "python",
   "name": "python3"
  },
  "language_info": {
   "codemirror_mode": {
    "name": "ipython",
    "version": 3
   },
   "file_extension": ".py",
   "mimetype": "text/x-python",
   "name": "python",
   "nbconvert_exporter": "python",
   "pygments_lexer": "ipython3",
   "version": "3.7.6"
  }
 },
 "nbformat": 4,
 "nbformat_minor": 4
}
