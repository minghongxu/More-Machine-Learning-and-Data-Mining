{
 "cells": [
  {
   "cell_type": "code",
   "execution_count": 1,
   "metadata": {},
   "outputs": [],
   "source": [
    "import json\n",
    "from pyspark import SparkConf,SparkContext\n",
    "import sys\n",
    "import random\n",
    "import math\n",
    "import re"
   ]
  },
  {
   "cell_type": "code",
   "execution_count": null,
   "metadata": {},
   "outputs": [],
   "source": []
  },
  {
   "cell_type": "code",
   "execution_count": 16,
   "metadata": {},
   "outputs": [],
   "source": [
    "train_file = 'train_review.json'\n",
    "test_file = 'test_review.json'\n",
    "model_file = 'task3user.model' #task3user.model\n",
    "output_file = 'task3user.predict'\n",
    "cf_type = 'user_based' #item_based/user_based\n",
    "#input_file = sys.argv[1]\n",
    "user_avg_file = 'user_avg.json'\n",
    "business_avg_file = 'business_avg.json'\n",
    "N = 10 #neighbors"
   ]
  },
  {
   "cell_type": "code",
   "execution_count": 3,
   "metadata": {},
   "outputs": [],
   "source": [
    "import time\n",
    "t_start = time.time()"
   ]
  },
  {
   "cell_type": "code",
   "execution_count": 4,
   "metadata": {},
   "outputs": [
    {
     "data": {
      "text/plain": [
       "<pyspark.conf.SparkConf at 0x7fe5a144f950>"
      ]
     },
     "execution_count": 4,
     "metadata": {},
     "output_type": "execute_result"
    }
   ],
   "source": [
    "conf = SparkConf().setAppName(\"inf553\")\n",
    "conf.set('spark.executor.memory', '4G')\n",
    "conf.set('spark.driver.memory', '4G')"
   ]
  },
  {
   "cell_type": "code",
   "execution_count": 5,
   "metadata": {},
   "outputs": [],
   "source": [
    "sc = SparkContext(conf=conf)"
   ]
  },
  {
   "cell_type": "code",
   "execution_count": 6,
   "metadata": {},
   "outputs": [],
   "source": [
    "with open(user_avg_file) as f:\n",
    "    user_avg = json.load(f)\n",
    "with open(business_avg_file) as f1:\n",
    "    business_avg = json.load(f1)"
   ]
  },
  {
   "cell_type": "code",
   "execution_count": 7,
   "metadata": {},
   "outputs": [],
   "source": [
    "review = sc.textFile(train_file).map(lambda x:json.loads(x)).map(lambda d: (d['user_id'], d['business_id'], d['stars'])).cache()\n"
   ]
  },
  {
   "cell_type": "code",
   "execution_count": 8,
   "metadata": {},
   "outputs": [],
   "source": [
    "test = sc.textFile(test_file).map(lambda x:json.loads(x))"
   ]
  },
  {
   "cell_type": "code",
   "execution_count": 21,
   "metadata": {},
   "outputs": [],
   "source": [
    "model = sc.textFile(model_file).map(lambda x:json.loads(x))"
   ]
  },
  {
   "cell_type": "code",
   "execution_count": 10,
   "metadata": {},
   "outputs": [],
   "source": [
    "def item_predict(user_id,business_id):\n",
    "    try:\n",
    "        user_rated = user_businesses[user_id]\n",
    "        weight_list = item_model[business_id]\n",
    "        weight_list = sorted(weight_list, key=lambda t: t[1], reverse = True)\n",
    "    except:\n",
    "        return\n",
    "    numerator = 0\n",
    "    denominator = 0\n",
    "    count = 0\n",
    "    for t in weight_list:\n",
    "        if t[0] in user_rated:\n",
    "            count += 1\n",
    "            numerator += user_rated[t[0]]*t[1]\n",
    "            denominator += t[1]\n",
    "        if count == N:\n",
    "            break\n",
    "    if denominator == 0:\n",
    "        return\n",
    "    else:\n",
    "        return numerator/denominator\n",
    "    "
   ]
  },
  {
   "cell_type": "code",
   "execution_count": 28,
   "metadata": {},
   "outputs": [],
   "source": [
    "def user_predict(user_id,business_id):\n",
    "    try:\n",
    "        rated_users = business_users[business_id]\n",
    "        weight_list = user_model[user_id]\n",
    "        weight_list = sorted(weight_list, key=lambda t: t[1], reverse = True)\n",
    "    except:\n",
    "        return\n",
    "    numerator = 0\n",
    "    denominator = 0\n",
    "    count = 0\n",
    "    for t in weight_list:\n",
    "        if t[0] in rated_users:\n",
    "            count += 1\n",
    "            numerator += (rated_users[t[0]]-user_avg[t[0]])*t[1]\n",
    "            denominator += t[1]\n",
    "        if count == N:\n",
    "            break\n",
    "    if denominator == 0:\n",
    "        return\n",
    "    else:\n",
    "        return user_avg[user_id] + numerator/denominator"
   ]
  },
  {
   "cell_type": "code",
   "execution_count": 11,
   "metadata": {},
   "outputs": [],
   "source": [
    "stars_result = []"
   ]
  },
  {
   "cell_type": "code",
   "execution_count": 29,
   "metadata": {},
   "outputs": [],
   "source": [
    "if cf_type == 'item_based':\n",
    "    user_businesses = dict(review.map(lambda t: (t[0],(t[1],t[2]))).groupByKey().map(lambda t: (t[0],dict(list(t[1])))).collect())\n",
    "    item_model = dict(model.flatMap(lambda d: ((d['b1'],(d['b2'],d['sim'])),(d['b2'],(d['b1'],d['sim'])))).groupByKey() \\\n",
    "        .map(lambda t: (t[0],list(t[1]))).collect()) \n",
    "    stars_result = test.map(lambda t: (t['user_id'], t['business_id'], item_predict(t['user_id'], t['business_id']))) \\\n",
    "        .collect()  \n",
    "elif cf_type == 'user_based':\n",
    "    business_users = dict(review.map(lambda t: (t[1],(t[0],t[2]))).groupByKey().map(lambda t: (t[0],dict(list(t[1])))).collect())\n",
    "    user_model = dict(model.flatMap(lambda d: ((d['u1'],(d['u2'],d['sim'])),(d['u2'],(d['u1'],d['sim'])))).groupByKey() \\\n",
    "        .map(lambda t: (t[0],list(t[1]))).collect())\n",
    "    stars_result = test.map(lambda t: (t['user_id'], t['business_id'], user_predict(t['user_id'], t['business_id']))) \\\n",
    "        .collect()  \n",
    "    "
   ]
  },
  {
   "cell_type": "code",
   "execution_count": null,
   "metadata": {
    "scrolled": false
   },
   "outputs": [],
   "source": []
  },
  {
   "cell_type": "code",
   "execution_count": null,
   "metadata": {},
   "outputs": [],
   "source": []
  },
  {
   "cell_type": "code",
   "execution_count": 13,
   "metadata": {},
   "outputs": [],
   "source": [
    "with open(output_file, 'w') as f:\n",
    "    for t in stars_result:\n",
    "        result = {}\n",
    "        result['user_id'] = t[0]\n",
    "        result['business_id'] = t[1]\n",
    "        result['stars'] = t[2]\n",
    "        json.dump(result, f)\n",
    "        f.write('\\n')"
   ]
  },
  {
   "cell_type": "code",
   "execution_count": null,
   "metadata": {},
   "outputs": [],
   "source": []
  },
  {
   "cell_type": "code",
   "execution_count": null,
   "metadata": {},
   "outputs": [],
   "source": []
  },
  {
   "cell_type": "code",
   "execution_count": 14,
   "metadata": {},
   "outputs": [
    {
     "name": "stdout",
     "output_type": "stream",
     "text": [
      "Duration: 63.078153133392334\n"
     ]
    }
   ],
   "source": [
    "t_end = time.time()\n",
    "print('Duration:', t_end-t_start)"
   ]
  },
  {
   "cell_type": "code",
   "execution_count": null,
   "metadata": {},
   "outputs": [],
   "source": []
  }
 ],
 "metadata": {
  "kernelspec": {
   "display_name": "Python 3",
   "language": "python",
   "name": "python3"
  },
  "language_info": {
   "codemirror_mode": {
    "name": "ipython",
    "version": 3
   },
   "file_extension": ".py",
   "mimetype": "text/x-python",
   "name": "python",
   "nbconvert_exporter": "python",
   "pygments_lexer": "ipython3",
   "version": "3.7.6"
  }
 },
 "nbformat": 4,
 "nbformat_minor": 4
}
