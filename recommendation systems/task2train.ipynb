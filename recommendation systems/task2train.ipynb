{
 "cells": [
  {
   "cell_type": "code",
   "execution_count": 1,
   "metadata": {},
   "outputs": [],
   "source": [
    "import json\n",
    "from pyspark import SparkConf,SparkContext\n",
    "import sys\n",
    "import random\n",
    "import math\n",
    "import re"
   ]
  },
  {
   "cell_type": "code",
   "execution_count": 2,
   "metadata": {},
   "outputs": [],
   "source": [
    "test_file = 'train_review.json'\n",
    "model_file = 'task2.model'\n",
    "stopwords = 'stopwords'\n",
    "#input_file = sys.argv[1]"
   ]
  },
  {
   "cell_type": "code",
   "execution_count": null,
   "metadata": {},
   "outputs": [],
   "source": [
    "import time\n",
    "t_start = time.time()"
   ]
  },
  {
   "cell_type": "code",
   "execution_count": 3,
   "metadata": {},
   "outputs": [
    {
     "data": {
      "text/plain": [
       "<pyspark.conf.SparkConf at 0x7f9716323c50>"
      ]
     },
     "execution_count": 3,
     "metadata": {},
     "output_type": "execute_result"
    }
   ],
   "source": [
    "conf = SparkConf().setAppName(\"inf553\")\n",
    "conf.set('spark.executor.memory', '4G')\n",
    "conf.set('spark.driver.memory', '4G')"
   ]
  },
  {
   "cell_type": "code",
   "execution_count": 4,
   "metadata": {
    "scrolled": true
   },
   "outputs": [],
   "source": [
    "sc = SparkContext(conf=conf)"
   ]
  },
  {
   "cell_type": "code",
   "execution_count": 5,
   "metadata": {
    "scrolled": true
   },
   "outputs": [],
   "source": [
    "review = sc.textFile(test_file).map(lambda x:json.loads(x))"
   ]
  },
  {
   "cell_type": "code",
   "execution_count": null,
   "metadata": {},
   "outputs": [],
   "source": []
  },
  {
   "cell_type": "code",
   "execution_count": 6,
   "metadata": {},
   "outputs": [],
   "source": [
    "stoplist = []\n",
    "f = open(stopwords, 'r')\n",
    "for line in f:\n",
    "    stoplist.append(line.strip('\\n'))"
   ]
  },
  {
   "cell_type": "code",
   "execution_count": 7,
   "metadata": {},
   "outputs": [],
   "source": [
    "punc = ['(', '[', ',', '.', '!', '?', ':', ';', ']', ')', ' ', '', '\\n', '-', '&']\n",
    "for i in punc:\n",
    "    stoplist.append(i)"
   ]
  },
  {
   "cell_type": "code",
   "execution_count": 8,
   "metadata": {},
   "outputs": [],
   "source": [
    "def words_frequent(chunk):\n",
    "    text_dic = {}\n",
    "    business_id = chunk[0]\n",
    "    text_list = chunk[1]\n",
    "    for i in text_list:\n",
    "        i = i.strip('([,.!?:;]) \\n\\'\\\"-')\n",
    "        i = i.lower()\n",
    "        try:\n",
    "            i = int(i)\n",
    "        except:\n",
    "            if i not in stoplist:\n",
    "                if i in text_dic:\n",
    "                    text_dic[i] += 1\n",
    "                else:\n",
    "                    text_dic[i] = 1\n",
    "    return (business_id, text_dic)\n"
   ]
  },
  {
   "cell_type": "code",
   "execution_count": 9,
   "metadata": {},
   "outputs": [],
   "source": [
    "def TFIDF(chunk):\n",
    "    business_id = chunk[0]\n",
    "    text_dic = chunk[1]\n",
    "    maxfkj = sorted(text_dic.items(), key=lambda t: t[1], reverse = True)[0][1]\n",
    "    result = {}\n",
    "    for key in text_dic:\n",
    "        TF = text_dic[key]/maxfkj\n",
    "        IDF = math.log(N/doc_frequency[key] ,2)\n",
    "        result[key] = TF*IDF\n",
    "    business_profile = sorted(result.items(), key=lambda t: t[1], reverse = True)[:200]\n",
    "    return (business_id, business_profile)\n",
    "    "
   ]
  },
  {
   "cell_type": "code",
   "execution_count": 10,
   "metadata": {},
   "outputs": [],
   "source": [
    "def find_user_profile(chunk):\n",
    "    user_id = chunk[0]\n",
    "    word_list = chunk[1]\n",
    "    if len(word_list) == 200:\n",
    "        return (user_id, word_list)\n",
    "    result = {}\n",
    "    for word in word_list:\n",
    "        if word not in result:\n",
    "            result[word] = 1\n",
    "        else:\n",
    "            result[word] += 1\n",
    "    user_profile = sorted(result.items(), key=lambda t: t[1], reverse = True)[:200]\n",
    "    return (user_id, list(dict(user_profile)))\n",
    "    "
   ]
  },
  {
   "cell_type": "code",
   "execution_count": null,
   "metadata": {},
   "outputs": [],
   "source": []
  },
  {
   "cell_type": "code",
   "execution_count": 11,
   "metadata": {},
   "outputs": [],
   "source": [
    "business_text = review.map(lambda d: (d['business_id'],d['text'])).reduceByKey(lambda a,b: a+' '+b) \\\n",
    "    .map(lambda t: (t[0],re.split(' |,|\\n|\\.',t[1]))).cache()"
   ]
  },
  {
   "cell_type": "code",
   "execution_count": 12,
   "metadata": {},
   "outputs": [],
   "source": [
    "N = business_text.count()"
   ]
  },
  {
   "cell_type": "code",
   "execution_count": 13,
   "metadata": {},
   "outputs": [],
   "source": [
    "#total = business_text.map(lambda t: len(t[1])).reduce(lambda a,b: a+b)"
   ]
  },
  {
   "cell_type": "code",
   "execution_count": 14,
   "metadata": {},
   "outputs": [],
   "source": [
    "business_frequent = business_text.map(words_frequent).cache()"
   ]
  },
  {
   "cell_type": "code",
   "execution_count": 15,
   "metadata": {},
   "outputs": [],
   "source": [
    "doc_frequency = dict(business_frequent.flatMap(lambda t: t[1]).map(lambda w: (w,1)).reduceByKey(lambda a,b: a+b).collect())\n"
   ]
  },
  {
   "cell_type": "code",
   "execution_count": 16,
   "metadata": {
    "scrolled": true
   },
   "outputs": [],
   "source": [
    "business_profile = dict(business_frequent.map(TFIDF).map(lambda t: (t[0], list(set(dict(t[1]))))).collect())"
   ]
  },
  {
   "cell_type": "code",
   "execution_count": null,
   "metadata": {},
   "outputs": [],
   "source": []
  },
  {
   "cell_type": "code",
   "execution_count": 17,
   "metadata": {},
   "outputs": [],
   "source": [
    "#user_profile = dict(review.map(lambda d: (d['user_id'],d['business_id'])).groupByKey() \\\n",
    "#    .map(lambda t: (t[0], list(set(t[1])))).collect())"
   ]
  },
  {
   "cell_type": "code",
   "execution_count": 18,
   "metadata": {},
   "outputs": [],
   "source": [
    "user_profile = dict(review.map(lambda d: (d['user_id'],d['business_id'])).map(lambda t:(t[0], business_profile[t[1]])) \\\n",
    "    .reduceByKey(lambda a,b: a+b).map(find_user_profile).collect())"
   ]
  },
  {
   "cell_type": "code",
   "execution_count": null,
   "metadata": {},
   "outputs": [],
   "source": []
  },
  {
   "cell_type": "code",
   "execution_count": null,
   "metadata": {},
   "outputs": [],
   "source": []
  },
  {
   "cell_type": "code",
   "execution_count": 19,
   "metadata": {},
   "outputs": [],
   "source": [
    "result = {}\n",
    "result['business_profile'] = business_profile\n",
    "result['user_profile'] = user_profile"
   ]
  },
  {
   "cell_type": "code",
   "execution_count": 20,
   "metadata": {},
   "outputs": [],
   "source": [
    "with open(model_file, 'w') as f:\n",
    "    json.dump(result, f)"
   ]
  },
  {
   "cell_type": "code",
   "execution_count": null,
   "metadata": {},
   "outputs": [],
   "source": []
  },
  {
   "cell_type": "code",
   "execution_count": null,
   "metadata": {},
   "outputs": [],
   "source": [
    "t_end = time.time()\n",
    "print('Duration:', t_end-t_start)"
   ]
  },
  {
   "cell_type": "code",
   "execution_count": null,
   "metadata": {},
   "outputs": [],
   "source": []
  }
 ],
 "metadata": {
  "kernelspec": {
   "display_name": "Python 3",
   "language": "python",
   "name": "python3"
  },
  "language_info": {
   "codemirror_mode": {
    "name": "ipython",
    "version": 3
   },
   "file_extension": ".py",
   "mimetype": "text/x-python",
   "name": "python",
   "nbconvert_exporter": "python",
   "pygments_lexer": "ipython3",
   "version": "3.7.6"
  }
 },
 "nbformat": 4,
 "nbformat_minor": 4
}
