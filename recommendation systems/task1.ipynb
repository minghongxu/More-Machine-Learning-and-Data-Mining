{
 "cells": [
  {
   "cell_type": "code",
   "execution_count": 1,
   "metadata": {},
   "outputs": [],
   "source": [
    "import json\n",
    "from pyspark import SparkConf,SparkContext\n",
    "import sys\n",
    "import random"
   ]
  },
  {
   "cell_type": "code",
   "execution_count": 2,
   "metadata": {},
   "outputs": [],
   "source": [
    "input_file = 'train_review.json'\n",
    "output_file = 'task1.res'\n",
    "#input_file = sys.argv[1]\n",
    "n = 50\n",
    "b = 50\n",
    "r = 1\n",
    "p = 99991\n",
    "random_a = random.sample(range(1, 2000), n)\n",
    "random_c = random.sample(range(1, 2000), n)"
   ]
  },
  {
   "cell_type": "code",
   "execution_count": 3,
   "metadata": {},
   "outputs": [
    {
     "data": {
      "text/plain": [
       "<pyspark.conf.SparkConf at 0x7fa2f6426910>"
      ]
     },
     "execution_count": 3,
     "metadata": {},
     "output_type": "execute_result"
    }
   ],
   "source": [
    "conf = SparkConf().setAppName(\"inf553\")\n",
    "conf.set('spark.executor.memory', '4G')\n",
    "conf.set('spark.driver.memory', '4G')"
   ]
  },
  {
   "cell_type": "code",
   "execution_count": 4,
   "metadata": {},
   "outputs": [],
   "source": [
    "sc = SparkContext(conf=conf)"
   ]
  },
  {
   "cell_type": "code",
   "execution_count": null,
   "metadata": {},
   "outputs": [],
   "source": []
  },
  {
   "cell_type": "code",
   "execution_count": 5,
   "metadata": {},
   "outputs": [],
   "source": [
    "def hash_value(row_num, a, c):\n",
    "    return ((a * row_num + c) % p) % user_num"
   ]
  },
  {
   "cell_type": "code",
   "execution_count": 6,
   "metadata": {},
   "outputs": [],
   "source": [
    "def minhash(user_list):\n",
    "    signature_vector = []\n",
    "    for i in range(n):\n",
    "        candidate_sig = []\n",
    "        for user in user_list:\n",
    "            candidate_sig.append(hash_value(user,random_a[i],random_c[i]))\n",
    "        signature_vector.append(min(candidate_sig))\n",
    "    return signature_vector\n",
    "    \n",
    "    "
   ]
  },
  {
   "cell_type": "code",
   "execution_count": 7,
   "metadata": {},
   "outputs": [],
   "source": [
    "def LSH(chunk):\n",
    "    business_id = chunk[0]\n",
    "    user_list = chunk[1]\n",
    "    result = []\n",
    "    for i in range(b):\n",
    "        band = []\n",
    "        for j in range(r):\n",
    "            band.append(user_list[i*r+j])\n",
    "        result.append(((i,tuple(band)),business_id))\n",
    "    return result\n",
    "            "
   ]
  },
  {
   "cell_type": "code",
   "execution_count": 8,
   "metadata": {},
   "outputs": [],
   "source": [
    "def find_pairs(candidates):\n",
    "    result = []\n",
    "    length = len(candidates)\n",
    "    for i in range(length):\n",
    "        for j in range(i+1, length):\n",
    "            result.append((candidates[i],candidates[j]))\n",
    "    return result"
   ]
  },
  {
   "cell_type": "code",
   "execution_count": 9,
   "metadata": {},
   "outputs": [],
   "source": [
    "def Jaccard(b1, b2):\n",
    "    sb1 = set(b1)\n",
    "    sb2 = set(b2)\n",
    "    return len(sb1&sb2)/len(sb1|sb2)\n",
    "    "
   ]
  },
  {
   "cell_type": "code",
   "execution_count": null,
   "metadata": {},
   "outputs": [],
   "source": []
  },
  {
   "cell_type": "code",
   "execution_count": 10,
   "metadata": {},
   "outputs": [],
   "source": [
    "review = sc.textFile(input_file).map(lambda x:json.loads(x)) \\\n",
    "    .map(lambda d: (d['user_id'],d['business_id']))"
   ]
  },
  {
   "cell_type": "code",
   "execution_count": 11,
   "metadata": {},
   "outputs": [],
   "source": [
    "users = sorted(review.map(lambda t: t[0]).distinct().collect())"
   ]
  },
  {
   "cell_type": "code",
   "execution_count": 12,
   "metadata": {},
   "outputs": [],
   "source": [
    "user_num = len(users)"
   ]
  },
  {
   "cell_type": "code",
   "execution_count": 13,
   "metadata": {},
   "outputs": [],
   "source": [
    "user_dic = {}\n",
    "for i, u in enumerate(users):\n",
    "    user_dic[u] = i"
   ]
  },
  {
   "cell_type": "code",
   "execution_count": 14,
   "metadata": {
    "scrolled": true
   },
   "outputs": [],
   "source": [
    "business = review.map(lambda t:(t[1],user_dic[t[0]])).groupByKey().map(lambda t:(t[0],list(t[1])))"
   ]
  },
  {
   "cell_type": "code",
   "execution_count": 15,
   "metadata": {},
   "outputs": [],
   "source": [
    "business_dict = dict(business.collect())"
   ]
  },
  {
   "cell_type": "code",
   "execution_count": 16,
   "metadata": {},
   "outputs": [],
   "source": [
    "signature_matrix = business.map(lambda t:(t[0], minhash(t[1]))).cache()"
   ]
  },
  {
   "cell_type": "code",
   "execution_count": 17,
   "metadata": {
    "scrolled": true
   },
   "outputs": [],
   "source": [
    "candidates = signature_matrix.flatMap(LSH).groupByKey().filter(lambda t: len(t[1])>1) \\\n",
    "    .map(lambda t: list(t[1])).flatMap(find_pairs).distinct()"
   ]
  },
  {
   "cell_type": "code",
   "execution_count": 18,
   "metadata": {},
   "outputs": [],
   "source": [
    "verified_pair = candidates.map(lambda t: ((t[0],t[1]),Jaccard(business_dict[t[0]],business_dict[t[1]]))) \\\n",
    "    .filter(lambda t: t[1] >= 0.05).sortBy(lambda t: (t[0][0],t[0][1])).collect()"
   ]
  },
  {
   "cell_type": "code",
   "execution_count": null,
   "metadata": {},
   "outputs": [],
   "source": []
  },
  {
   "cell_type": "code",
   "execution_count": 19,
   "metadata": {},
   "outputs": [],
   "source": [
    "with open(output_file, 'w') as f:\n",
    "    for t in verified_pair:\n",
    "        result = {}\n",
    "        result['b1'] = t[0][0]\n",
    "        result['b2'] = t[0][1]\n",
    "        result['sim'] = t[1]\n",
    "        json.dump(result, f)\n",
    "        f.write('\\n')"
   ]
  },
  {
   "cell_type": "code",
   "execution_count": null,
   "metadata": {},
   "outputs": [],
   "source": []
  },
  {
   "cell_type": "code",
   "execution_count": null,
   "metadata": {},
   "outputs": [],
   "source": []
  }
 ],
 "metadata": {
  "kernelspec": {
   "display_name": "Python 3",
   "language": "python",
   "name": "python3"
  },
  "language_info": {
   "codemirror_mode": {
    "name": "ipython",
    "version": 3
   },
   "file_extension": ".py",
   "mimetype": "text/x-python",
   "name": "python",
   "nbconvert_exporter": "python",
   "pygments_lexer": "ipython3",
   "version": "3.7.6"
  }
 },
 "nbformat": 4,
 "nbformat_minor": 4
}
