{
 "cells": [
  {
   "cell_type": "code",
   "execution_count": 1,
   "metadata": {},
   "outputs": [],
   "source": [
    "import json\n",
    "from pyspark import SparkConf,SparkContext\n",
    "import sys\n",
    "import time\n",
    "import copy"
   ]
  },
  {
   "cell_type": "code",
   "execution_count": 2,
   "metadata": {},
   "outputs": [],
   "source": [
    "t_start = time.time()"
   ]
  },
  {
   "cell_type": "code",
   "execution_count": 3,
   "metadata": {},
   "outputs": [],
   "source": [
    "threshold = 4\n",
    "input_file = 'test_task2_user_business.csv'\n",
    "betweenness_file = 'betweenness'\n",
    "output_file = 'task2'\n",
    "#input_file = sys.argv[1]"
   ]
  },
  {
   "cell_type": "code",
   "execution_count": 4,
   "metadata": {},
   "outputs": [
    {
     "data": {
      "text/plain": [
       "<pyspark.conf.SparkConf at 0x7f8de2330710>"
      ]
     },
     "execution_count": 4,
     "metadata": {},
     "output_type": "execute_result"
    }
   ],
   "source": [
    "conf = SparkConf().setAppName(\"inf553\")\n",
    "conf.set('spark.executor.memory', '4G')\n",
    "conf.set('spark.driver.memory', '4G')"
   ]
  },
  {
   "cell_type": "code",
   "execution_count": 5,
   "metadata": {},
   "outputs": [],
   "source": [
    "sc = SparkContext(conf=conf)"
   ]
  },
  {
   "cell_type": "code",
   "execution_count": 6,
   "metadata": {},
   "outputs": [],
   "source": [
    "def graph_construction(chunk):\n",
    "    user = chunk[0]\n",
    "    business = chunk[1]\n",
    "    result = []\n",
    "    for key in user_dict:\n",
    "        if key != user:\n",
    "            if len(business&user_dict[key]) >= threshold:\n",
    "                result.append((user,key))\n",
    "    return result"
   ]
  },
  {
   "cell_type": "code",
   "execution_count": 7,
   "metadata": {},
   "outputs": [],
   "source": [
    "def GN(root, graph):\n",
    "    edge_contribution = {}\n",
    "    node_credit = {}\n",
    "    shortest_path = {}\n",
    "    level = {}\n",
    "    queue = [root]\n",
    "    visited = []\n",
    "    relationship = {}\n",
    "    \n",
    "    node_credit[root] = 1\n",
    "    level[root] = 0\n",
    "    shortest_path[root] = 1\n",
    "    \n",
    "    while len(queue) != 0:\n",
    "        node = queue.pop(0)\n",
    "        visited.append(node)\n",
    "        for subnode in graph[node]:\n",
    "            if subnode not in level:\n",
    "                level[subnode] = level[node] + 1\n",
    "                queue.append(subnode)\n",
    "                shortest_path[subnode] = 0\n",
    "            if level[subnode] == level[node] + 1:\n",
    "                shortest_path[subnode]=shortest_path[subnode]+shortest_path[node]\n",
    "                if subnode in relationship:\n",
    "                    relationship[subnode].append(node)\n",
    "                else:\n",
    "                    relationship[subnode] = [node]\n",
    "    \n",
    "    visited.reverse()\n",
    "    for n in nodes_list:\n",
    "        node_credit[n] = 1\n",
    "    for child in visited[:-1]:\n",
    "        for parent in relationship[child]:\n",
    "            share = node_credit[child] * (shortest_path[parent] / shortest_path[child])\n",
    "            node_credit[parent] += share\n",
    "            t = tuple(sorted((parent,child)))\n",
    "            if t in edge_contribution:\n",
    "                edge_contribution[t] += share\n",
    "            else:\n",
    "                edge_contribution[t] = share\n",
    "        \n",
    "        \n",
    "    return edge_contribution\n",
    "                "
   ]
  },
  {
   "cell_type": "code",
   "execution_count": 8,
   "metadata": {},
   "outputs": [],
   "source": [
    "def modularity(communities):\n",
    "    Q = 0\n",
    "    for community in communities:\n",
    "        for i in community:\n",
    "            for j in community:\n",
    "                if j in graph[i]:\n",
    "                    Aij = 1\n",
    "                else:\n",
    "                    Aij = 0\n",
    "                Q += (Aij - (len(graph[i])*len(graph[j]))/(2*m))\n",
    "    return Q\n",
    "    "
   ]
  },
  {
   "cell_type": "code",
   "execution_count": 9,
   "metadata": {},
   "outputs": [],
   "source": [
    "def find_communities(vertices, graph):\n",
    "    result = []\n",
    "    queue = []\n",
    "    visited = []\n",
    "    for vertex in vertices:\n",
    "        if vertex not in visited:\n",
    "            community = [vertex]\n",
    "            queue.append(vertex)\n",
    "            visited.append(vertex)\n",
    "            while len(queue) != 0:\n",
    "                node = queue.pop(0)\n",
    "                for subnode in graph[node]:\n",
    "                    if subnode not in visited:\n",
    "                        queue.append(subnode)\n",
    "                        visited.append(subnode)\n",
    "                        community.append(subnode)\n",
    "            community = sorted(community)\n",
    "            result.append(community)\n",
    "    return result"
   ]
  },
  {
   "cell_type": "code",
   "execution_count": null,
   "metadata": {},
   "outputs": [],
   "source": []
  },
  {
   "cell_type": "code",
   "execution_count": 10,
   "metadata": {},
   "outputs": [],
   "source": [
    "input_data = sc.textFile(input_file)\n",
    "first = input_data.first()\n",
    "user_business = input_data.filter(lambda x: x != first).map(lambda s: s.split(','))"
   ]
  },
  {
   "cell_type": "code",
   "execution_count": 11,
   "metadata": {},
   "outputs": [],
   "source": [
    "user_business_set = user_business.groupByKey().map(lambda t: (t[0], set(t[1]))).cache()"
   ]
  },
  {
   "cell_type": "code",
   "execution_count": 12,
   "metadata": {},
   "outputs": [],
   "source": [
    "user_dict = dict(user_business_set.collect())"
   ]
  },
  {
   "cell_type": "code",
   "execution_count": 13,
   "metadata": {},
   "outputs": [],
   "source": [
    "connect = user_business_set.flatMap(graph_construction).cache()"
   ]
  },
  {
   "cell_type": "code",
   "execution_count": 14,
   "metadata": {},
   "outputs": [],
   "source": [
    "nodes = connect.map(lambda t: t[0]).distinct()"
   ]
  },
  {
   "cell_type": "code",
   "execution_count": 15,
   "metadata": {},
   "outputs": [],
   "source": [
    "nodes_list = nodes.collect()"
   ]
  },
  {
   "cell_type": "code",
   "execution_count": 16,
   "metadata": {},
   "outputs": [],
   "source": [
    "graph = dict(connect.groupByKey().map(lambda t: (t[0], set(t[1]))).collect())"
   ]
  },
  {
   "cell_type": "code",
   "execution_count": null,
   "metadata": {},
   "outputs": [],
   "source": []
  },
  {
   "cell_type": "code",
   "execution_count": 17,
   "metadata": {},
   "outputs": [],
   "source": [
    "betweenness = nodes.map(lambda n: GN(n,graph)).flatMap(lambda d: list(d.items())).reduceByKey(lambda a,b: a+b) \\\n",
    "    .map(lambda t: (t[0],t[1]/2)).sortBy(lambda t:(-t[1],t[0][0])).collect()"
   ]
  },
  {
   "cell_type": "code",
   "execution_count": 18,
   "metadata": {},
   "outputs": [],
   "source": [
    "m = connect.count() / 2\n",
    "max_modularity = -1\n",
    "graph_res = copy.deepcopy(graph)\n",
    "communities_res = []"
   ]
  },
  {
   "cell_type": "code",
   "execution_count": 19,
   "metadata": {
    "scrolled": true
   },
   "outputs": [],
   "source": [
    "while m > 0:\n",
    "    communities = find_communities(nodes_list, graph_res)\n",
    "    modu = modularity(communities)\n",
    "    if modu > max_modularity:\n",
    "        max_modularity = modu\n",
    "        communities_res = communities.copy()\n",
    "    betweenness_temp = nodes.map(lambda n: GN(n,graph_res)).flatMap(lambda d: list(d.items())).reduceByKey(lambda a,b: a+b) \\\n",
    "        .map(lambda t: (t[0],t[1]/2)).sortBy(lambda t:(-t[1],t[0][0])).cache()\n",
    "    first = betweenness_temp.first()[1]\n",
    "    remove = betweenness_temp.filter(lambda t: t[1] == first).collect()\n",
    "    for between in remove:\n",
    "        m -= 1\n",
    "        graph_res[between[0][0]].remove(between[0][1])\n",
    "        graph_res[between[0][1]].remove(between[0][0])\n",
    "    "
   ]
  },
  {
   "cell_type": "code",
   "execution_count": 20,
   "metadata": {},
   "outputs": [],
   "source": [
    "communities_res = sorted(communities_res, key=lambda t: (len(t),t[0]))"
   ]
  },
  {
   "cell_type": "code",
   "execution_count": null,
   "metadata": {},
   "outputs": [],
   "source": []
  },
  {
   "cell_type": "code",
   "execution_count": null,
   "metadata": {},
   "outputs": [],
   "source": []
  },
  {
   "cell_type": "code",
   "execution_count": 21,
   "metadata": {},
   "outputs": [],
   "source": [
    "with open(betweenness_file, \"w\") as f:\n",
    "    for value in betweenness:\n",
    "        f.write(str(value)[1:-1] + '\\n')"
   ]
  },
  {
   "cell_type": "code",
   "execution_count": 22,
   "metadata": {},
   "outputs": [],
   "source": [
    "with open(output_file, \"w\") as f1:\n",
    "    for value in communities_res:\n",
    "        f1.write(str(value)[1:-1] + '\\n')"
   ]
  },
  {
   "cell_type": "code",
   "execution_count": null,
   "metadata": {},
   "outputs": [],
   "source": []
  },
  {
   "cell_type": "code",
   "execution_count": 23,
   "metadata": {},
   "outputs": [
    {
     "name": "stdout",
     "output_type": "stream",
     "text": [
      "Duration: 113.16455602645874\n"
     ]
    }
   ],
   "source": [
    "t_end = time.time()\n",
    "print('Duration:', t_end-t_start)"
   ]
  },
  {
   "cell_type": "code",
   "execution_count": null,
   "metadata": {},
   "outputs": [],
   "source": []
  }
 ],
 "metadata": {
  "kernelspec": {
   "display_name": "Python 3",
   "language": "python",
   "name": "python3"
  },
  "language_info": {
   "codemirror_mode": {
    "name": "ipython",
    "version": 3
   },
   "file_extension": ".py",
   "mimetype": "text/x-python",
   "name": "python",
   "nbconvert_exporter": "python",
   "pygments_lexer": "ipython3",
   "version": "3.7.6"
  }
 },
 "nbformat": 4,
 "nbformat_minor": 4
}
